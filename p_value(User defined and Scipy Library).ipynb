{
 "cells": [
  {
   "cell_type": "markdown",
   "metadata": {},
   "source": [
    "# p-Values"
   ]
  },
  {
   "cell_type": "markdown",
   "metadata": {},
   "source": [
    "## Scipy Library - Binomial Test for p-Values"
   ]
  },
  {
   "cell_type": "code",
   "execution_count": 1,
   "metadata": {},
   "outputs": [
    {
     "name": "stdout",
     "output_type": "stream",
     "text": [
      "pvalue =  1.0\n",
      "We accept the Null Hypothesis.\n"
     ]
    }
   ],
   "source": [
    "import numpy as np\n",
    "from scipy import stats\n",
    "\n",
    "alpha = 0.05 ### Significance level denoted by alpha\n",
    "\n",
    "pval = stats.binom_test(50, n=100, p=0.5, alternative='two-sided')\n",
    "\n",
    "print('pvalue = ', pval)\n",
    "if pval< alpha:\n",
    "    print(\"We accept the alternate hypothesis\")\n",
    "else:\n",
    "    print(\"We accept the Null Hypothesis.\")\n",
    "    "
   ]
  },
  {
   "cell_type": "markdown",
   "metadata": {},
   "source": [
    "## User-Defined p-value function"
   ]
  },
  {
   "cell_type": "code",
   "execution_count": 6,
   "metadata": {},
   "outputs": [
    {
     "name": "stdout",
     "output_type": "stream",
     "text": [
      "1.5400696281129654e-33\n",
      "We accept the alternate hypothesis\n"
     ]
    }
   ],
   "source": [
    "import math\n",
    "def p_value(outcome, total):\n",
    "    successes = 0\n",
    "    for i in range(0,total):\n",
    "        ## p-value is the probability that a random chance generated a data or something equal has been denoted as \"=\" \n",
    "        ### under the if statement, while the probability that something is rarer is denoted by \"<\"\n",
    "        \n",
    "        if (math.factorial(total)/(math.factorial(i)*math.factorial(total-i)))<=(math.factorial(total)/(math.factorial(outcome)*math.factorial(total-outcome))):\n",
    "            successes+= math.factorial(total)/(math.factorial(i)*math.factorial(total-i))\n",
    "            \n",
    "            possible_outcomes = 2**total ### Total Possible Outcomes\n",
    "        else:\n",
    "            continue\n",
    "    return (successes)/possible_outcomes\n",
    "\n",
    "print(p_value(22,208))\n",
    "\n",
    "### Significance level\n",
    "alpha = 0.05\n",
    "\n",
    "### Storing the function inside \"p_val\" variable \n",
    "p_val = p_value(22,208)\n",
    "\n",
    "if p_val < alpha:\n",
    "    print(\"We accept the alternate hypothesis\")\n",
    "else:\n",
    "    print(\"We accept the Null Hypothesis.\")"
   ]
  },
  {
   "cell_type": "code",
   "execution_count": null,
   "metadata": {},
   "outputs": [],
   "source": []
  }
 ],
 "metadata": {
  "kernelspec": {
   "display_name": "Python 3",
   "language": "python",
   "name": "python3"
  },
  "language_info": {
   "codemirror_mode": {
    "name": "ipython",
    "version": 3
   },
   "file_extension": ".py",
   "mimetype": "text/x-python",
   "name": "python",
   "nbconvert_exporter": "python",
   "pygments_lexer": "ipython3",
   "version": "3.8.3"
  }
 },
 "nbformat": 4,
 "nbformat_minor": 4
}
